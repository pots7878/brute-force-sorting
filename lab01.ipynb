{
 "cells": [
  {
   "cell_type": "markdown",
   "metadata": {},
   "source": [
    "# Lab 01: Algorithm Design and Analysis\n",
    "ISC 4221<br>\n",
    "Due September 11th, 2019<br>\n",
    "Connor Poetzinger<br> "
   ]
  },
  {
   "cell_type": "markdown",
   "metadata": {},
   "source": [
    "## Introduction"
   ]
  },
  {
   "cell_type": "markdown",
   "metadata": {},
   "source": [
    "This lab introduces brute force algorithms. I implemented two sorting algorithms, selection sort and bubble sort, to sort a real one-dimensional array in ascending order. I then apply the selection sorting algorithm to a problem to determine the closest store location from a hypothetical caller's latitude and longitude location. The stores distance are calculated via the Haversine formula and the resulting list of stores, city, and distance are then sorted by distance in ascending order."
   ]
  },
  {
   "cell_type": "markdown",
   "metadata": {},
   "source": [
    "## 1. Selection Sort"
   ]
  },
  {
   "cell_type": "markdown",
   "metadata": {},
   "source": [
    "This algorithm takes in an array of *n* real numbers to be sorted and outputs the sorted array in ascending order as well as its positional index vector. The algorithm divides the input list into two parts: the sublist of items already sorted, which is  built up from left to right at the front of the list, and the sublist of items remaining to be sorted that occupy the rest of the list. The algorithm proceeds by finding the smallest element in the unsorted sublist, swapping it with the leftmost unsorted element, and moving the sublist boundaries one element to the right."
   ]
  },
  {
   "cell_type": "code",
   "execution_count": 1,
   "metadata": {},
   "outputs": [],
   "source": [
    "#Import modules \n",
    "import numpy as np\n",
    "\"\"\"\n",
    "Input: Numpy array of random real numbers from 0 to 100\n",
    "Output: Sorted array and index vector\n",
    "\n",
    "Goal: Take current element and swap it with the smallest element on its right \n",
    "\"\"\"\n",
    "\n",
    "def selectionSort(A):\n",
    "    #use numpy argsort to return indicies that would sort the array \n",
    "    indx = np.argsort(A)\n",
    "    #Traverse through numpy array \n",
    "    for i in range(len(A)):\n",
    "        #initial minimum location \n",
    "        min_loc = i\n",
    "        #find location of smallest element on right \n",
    "        for j in range(i + 1, len(A)):\n",
    "            #Check if number to the right is smaller then minimum location\n",
    "            if A[j] < A[min_loc]:\n",
    "                min_loc = j\n",
    "        #Within the first for loop swap the minimum location with first element \n",
    "        A[min_loc], A[i] = A[i], A[min_loc]\n",
    "    \n",
    "    return A, indx"
   ]
  },
  {
   "cell_type": "code",
   "execution_count": 5,
   "metadata": {},
   "outputs": [
    {
     "name": "stdout",
     "output_type": "stream",
     "text": [
      "Unsorted list or random floats from 0-100\n",
      "\n",
      " [85.32501348 79.01238477 90.50273441 77.57919042 46.11591656 24.64842269\n",
      " 48.83440491 87.63569242 40.53847143 94.45146099 21.85870201 63.3207343\n",
      "  3.77130625 60.58723145 73.42841579 32.12889231  3.50014459 86.50772699\n",
      " 48.76288708 14.55842927 28.95660332 45.01389282  4.52603508 60.82367533\n",
      " 83.29754109 16.41267191]\n"
     ]
    }
   ],
   "source": [
    "A = np.random.rand(26) * 100\n",
    "print(\"Unsorted list or random floats from 0-100\\n\\n\", A)"
   ]
  },
  {
   "cell_type": "code",
   "execution_count": 6,
   "metadata": {},
   "outputs": [
    {
     "name": "stdout",
     "output_type": "stream",
     "text": [
      "Sorted list of random floats from 0-100 and its position indicies\n",
      "\n",
      " [ 3.50014459  3.77130625  4.52603508 14.55842927 16.41267191 21.85870201\n",
      " 24.64842269 28.95660332 32.12889231 40.53847143 45.01389282 46.11591656\n",
      " 48.76288708 48.83440491 60.58723145 60.82367533 63.3207343  73.42841579\n",
      " 77.57919042 79.01238477 83.29754109 85.32501348 86.50772699 87.63569242\n",
      " 90.50273441 94.45146099] \n",
      "\n",
      " [16 12 22 19 25 10  5 20 15  8 21  4 18  6 13 23 11 14  3  1 24  0 17  7\n",
      "  2  9]\n"
     ]
    }
   ],
   "source": [
    "B, indxd = selectionSort(A)\n",
    "print(\"Sorted list of random floats from 0-100 and its position indicies\\n\\n\", \n",
    "      B, \"\\n\\n\", indxd)"
   ]
  },
  {
   "cell_type": "markdown",
   "metadata": {},
   "source": [
    "Selection sort is noted for its simplicity, it has O(n<sup>2</sup>) time complexity."
   ]
  },
  {
   "cell_type": "markdown",
   "metadata": {},
   "source": [
    "## 2. Bubble Sort"
   ]
  },
  {
   "cell_type": "markdown",
   "metadata": {},
   "source": [
    "This algorithm takes in an array of *n* real numbers to be sorted and outputs the the sorted array in ascending order as well as its positional index vector. The algorithm proceeds by repeatedly sweeping through the list, compares adjacent elements and swaps them if they are in the wrong order. The sweep through the list is repeated until the list is sorted. "
   ]
  },
  {
   "cell_type": "code",
   "execution_count": 4,
   "metadata": {},
   "outputs": [],
   "source": [
    "#Import modules \n",
    "import numpy as np\n",
    "\"\"\"\n",
    "Input: Numpy array of random real numbers from 0 to 100\n",
    "Output: Sorted array and index vector\n",
    "\n",
    "Goal: Move left to right, compare consedcutive elements and switch them if \n",
    "they are out of order. Continue until no swaps are made through an entire\n",
    "sweep.\n",
    "\"\"\"\n",
    "\n",
    "def bubbleSort(A):\n",
    "    #use numpy argsort to return indicies that would sort the array \n",
    "    indx = np.argsort(A)\n",
    "    #Traverse the numpy array\n",
    "    for i in range(len(A)):\n",
    "        #At each sweep compare the current j with the next value \n",
    "        #Use length minus 1 since we are comparing the current value \n",
    "        #with the next \n",
    "        for j in range((len(A) - 1) - i):\n",
    "            #Swap positions if element found is greater than the next \n",
    "            #element. Largest nums bubble to the back \n",
    "            if A[j] > A[j + 1]:\n",
    "                #Current element moves to the back \n",
    "                A[j], A[j + 1] = A[j + 1], A[j]\n",
    "    \n",
    "    return A, indx"
   ]
  },
  {
   "cell_type": "code",
   "execution_count": 5,
   "metadata": {},
   "outputs": [
    {
     "name": "stdout",
     "output_type": "stream",
     "text": [
      "Unsorted list or random floats from 0-100\n",
      "\n",
      " [72.56893187 76.16464016 29.82701629 25.11089047 88.5028215  43.43356996\n",
      " 49.1445192  70.33294691 38.50901398 49.55203914 34.43311064  1.69675518\n",
      " 96.73588528 64.46356414 58.62491947 88.58874741 82.18190962 90.73361751\n",
      " 50.07136809 65.86577621 87.28108278 31.49009725 55.43346748 52.52842143\n",
      " 51.7450819 ]\n"
     ]
    }
   ],
   "source": [
    "A = np.random.rand(25) * 100\n",
    "print(\"Unsorted list or random floats from 0-100\\n\\n\", A)"
   ]
  },
  {
   "cell_type": "code",
   "execution_count": 6,
   "metadata": {},
   "outputs": [
    {
     "name": "stdout",
     "output_type": "stream",
     "text": [
      "Sorted list of random floats from 0-100 and its position indicies\n",
      "\n",
      " [ 1.69675518 25.11089047 29.82701629 31.49009725 34.43311064 38.50901398\n",
      " 43.43356996 49.1445192  49.55203914 50.07136809 51.7450819  52.52842143\n",
      " 55.43346748 58.62491947 64.46356414 65.86577621 70.33294691 72.56893187\n",
      " 76.16464016 82.18190962 87.28108278 88.5028215  88.58874741 90.73361751\n",
      " 96.73588528] \n",
      "\n",
      " [11  3  2 21 10  8  5  6  9 18 24 23 22 14 13 19  7  0  1 16 20  4 15 17\n",
      " 12]\n"
     ]
    }
   ],
   "source": [
    "B, indxd = bubbleSort(A)\n",
    "print(\"Sorted list of random floats from 0-100 and its position indicies\\n\\n\",\n",
    "      B, \"\\n\\n\", indxd)"
   ]
  },
  {
   "cell_type": "markdown",
   "metadata": {},
   "source": [
    "Bubble sort is noted for its simplicity however, this algorithm is noticeably slower than selection sort. Bubble sort has a complexity of O(n<sup>2</sup>) which is the same as selection sort, but since bubble sort takes multiple sweeps of the list to sort the array, it is considered inferior to selection sort."
   ]
  },
  {
   "cell_type": "markdown",
   "metadata": {},
   "source": [
    "## 3. A Basic Application of Sorting"
   ]
  },
  {
   "cell_type": "markdown",
   "metadata": {},
   "source": [
    "Using the Haversine algorithm, find the distance between the store distance and the user inputed longitude and latitude. The example latitude and longitude I use is 82 W 29 N, approximately near Ocala, Florida."
   ]
  },
  {
   "cell_type": "code",
   "execution_count": 5,
   "metadata": {},
   "outputs": [],
   "source": [
    "import numpy as np \n",
    "import pandas as pd \n",
    "\n",
    "def haversin(data):\n",
    "    \n",
    "    \"\"\"\n",
    "    This function reads in user latitude and logitude to simulate logging customer\n",
    "    call locations. The user's long and lat are then converted to radians along \n",
    "    with other pre-defined longs and lats imported from a text file and save to a \n",
    "    pandas dataframe. The function then computes the distance from the caller to \n",
    "    the the stores in the dataframe using the haversine formula. The distances are\n",
    "    then sorted in ascending order and printed out to provide the customer with \n",
    "    a list of closest stores, and how many miles to the store. \n",
    "    \"\"\"\n",
    "    \n",
    "    #Read in user long and lat \n",
    "    #must transform string values to float \n",
    "    lon1 = float(input(\"Enter longitude: \"))\n",
    "    lat1 = float(input(\"Enter latitude: \"))\n",
    "    \n",
    "    #Radius of earth from the equator in miles (found on google)\n",
    "    R = 3963.0\n",
    "    \n",
    "    #assign user lat and lon and datatable lat and long to variables\n",
    "    #I use the in-built function map to assign the numpy function \n",
    "    #np.radians to the degree\n",
    "    #lats and long to transform degree into radians \n",
    "    lat1, lon1, lat2, lon2 = map(np.radians, \n",
    "                                 [lat1, lon1, data.latitude, data.longitude])\n",
    "    \n",
    "    #calculate the distance between the lats and longs\n",
    "    lon_dist = lon2 - lon1\n",
    "    lat_dist = lat2 - lat1\n",
    "    \n",
    "    #apply haversine formula \n",
    "    #np cos and sin provide for faster calculations \n",
    "    c = 2 * R * np.arcsin(np.sqrt((np.sin(lat_dist)/2)**2 + \n",
    "                                  np.cos(lat1) * np.cos(lat2) * \n",
    "                                  np.sin((lon_dist)/2)**2 ))\n",
    "    \n",
    "    #prompt user for the info provided \n",
    "    print(\"\\nBelow are the closest stores from your location in ascending order\\n\")\n",
    "    \n",
    "    #apply selection sort\n",
    "    sorted_result, indx = selectionSort(c)\n",
    "    \n",
    "    return sorted_result, indx"
   ]
  },
  {
   "cell_type": "code",
   "execution_count": 6,
   "metadata": {},
   "outputs": [
    {
     "name": "stdout",
     "output_type": "stream",
     "text": [
      "Enter longitude: 82\n",
      "Enter latitude: 29\n",
      "\n",
      "Below are the closest stores from your location in ascending order\n",
      "\n",
      "   Store          City  Distance(m)\n",
      " store#2   Gainesville    49.170962\n",
      " store#6       Orlando    58.666064\n",
      " store#5         Tampa    77.023368\n",
      " store#4  Jacksonville    94.676263\n",
      " store#1   Tallahassee   168.646953\n",
      " store#7       Hialeah   241.000734\n",
      " store#3         Miami   248.602665\n"
     ]
    }
   ],
   "source": [
    "#import data table \n",
    "#use pandas to assign columns using strings \n",
    "data = pd.read_table('stores_location.dat', delim_whitespace=True, \n",
    "                     names = ('store', 'city', 'latitude', 'N', 'longitude','W'))\n",
    "\n",
    "#call function \n",
    "sorted_dist , indx = haversin(data)\n",
    "\n",
    "#Sort the cities and stores based on the index from selectionSort(c)\n",
    "sorted_cities = [data['city'][indx[i]] for i in range(len(data))]\n",
    "sorted_stores = [data['store'][indx[i]] for i in range(len(data))]\n",
    "\n",
    "#create a tuple to package store num, city, and dist together\n",
    "sorted_zip = list(zip(sorted_stores, sorted_cities, sorted_dist))\n",
    "\n",
    "#Create output dataframe\n",
    "final_sort = pd.DataFrame(sorted_zip, columns=['Store','City','Distance(m)'])\n",
    "print(final_sort.to_string(index=False))"
   ]
  },
  {
   "cell_type": "markdown",
   "metadata": {},
   "source": [
    "Testing the longitude and latitude coordinates for Ocala, Florida (82 W, 29 N), the resulting list is accurate. The closest city, Gainesville, is 49.17 miles away followed by Orlando at 58.66 miles away. The furthest city from the given cooridinates is Miami at is 248.60 miles away."
   ]
  }
 ],
 "metadata": {
  "kernelspec": {
   "display_name": "Python 3",
   "language": "python",
   "name": "python3"
  },
  "language_info": {
   "codemirror_mode": {
    "name": "ipython",
    "version": 3
   },
   "file_extension": ".py",
   "mimetype": "text/x-python",
   "name": "python",
   "nbconvert_exporter": "python",
   "pygments_lexer": "ipython3",
   "version": "3.7.0"
  }
 },
 "nbformat": 4,
 "nbformat_minor": 2
}
