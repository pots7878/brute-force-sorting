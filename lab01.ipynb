{
 "cells": [
  {
   "cell_type": "code",
   "execution_count": 11,
   "metadata": {},
   "outputs": [
    {
     "data": {
      "text/html": [
       "<div>\n",
       "<style scoped>\n",
       "    .dataframe tbody tr th:only-of-type {\n",
       "        vertical-align: middle;\n",
       "    }\n",
       "\n",
       "    .dataframe tbody tr th {\n",
       "        vertical-align: top;\n",
       "    }\n",
       "\n",
       "    .dataframe thead th {\n",
       "        text-align: right;\n",
       "    }\n",
       "</style>\n",
       "<table border=\"1\" class=\"dataframe\">\n",
       "  <thead>\n",
       "    <tr style=\"text-align: right;\">\n",
       "      <th></th>\n",
       "      <th>store</th>\n",
       "      <th>city</th>\n",
       "      <th>longitude</th>\n",
       "      <th>N</th>\n",
       "      <th>latitude</th>\n",
       "      <th>W</th>\n",
       "    </tr>\n",
       "  </thead>\n",
       "  <tbody>\n",
       "    <tr>\n",
       "      <td>0</td>\n",
       "      <td>store#1</td>\n",
       "      <td>Tallahassee</td>\n",
       "      <td>30.4550</td>\n",
       "      <td>N</td>\n",
       "      <td>84.2533</td>\n",
       "      <td>W</td>\n",
       "    </tr>\n",
       "    <tr>\n",
       "      <td>1</td>\n",
       "      <td>store#2</td>\n",
       "      <td>Gainesville</td>\n",
       "      <td>29.6520</td>\n",
       "      <td>N</td>\n",
       "      <td>82.3250</td>\n",
       "      <td>W</td>\n",
       "    </tr>\n",
       "    <tr>\n",
       "      <td>2</td>\n",
       "      <td>store#3</td>\n",
       "      <td>Miami</td>\n",
       "      <td>25.7753</td>\n",
       "      <td>N</td>\n",
       "      <td>80.2089</td>\n",
       "      <td>W</td>\n",
       "    </tr>\n",
       "    <tr>\n",
       "      <td>3</td>\n",
       "      <td>store#4</td>\n",
       "      <td>Jacksonville</td>\n",
       "      <td>30.3369</td>\n",
       "      <td>N</td>\n",
       "      <td>81.6614</td>\n",
       "      <td>W</td>\n",
       "    </tr>\n",
       "    <tr>\n",
       "      <td>4</td>\n",
       "      <td>store#5</td>\n",
       "      <td>Tampa</td>\n",
       "      <td>27.9681</td>\n",
       "      <td>N</td>\n",
       "      <td>82.4764</td>\n",
       "      <td>W</td>\n",
       "    </tr>\n",
       "    <tr>\n",
       "      <td>5</td>\n",
       "      <td>store#6</td>\n",
       "      <td>Orlando</td>\n",
       "      <td>28.4158</td>\n",
       "      <td>N</td>\n",
       "      <td>81.2989</td>\n",
       "      <td>W</td>\n",
       "    </tr>\n",
       "    <tr>\n",
       "      <td>6</td>\n",
       "      <td>store#7</td>\n",
       "      <td>Hialeah</td>\n",
       "      <td>25.8606</td>\n",
       "      <td>N</td>\n",
       "      <td>80.2939</td>\n",
       "      <td>W</td>\n",
       "    </tr>\n",
       "  </tbody>\n",
       "</table>\n",
       "</div>"
      ],
      "text/plain": [
       "     store          city  longitude  N  latitude  W\n",
       "0  store#1   Tallahassee    30.4550  N   84.2533  W\n",
       "1  store#2   Gainesville    29.6520  N   82.3250  W\n",
       "2  store#3         Miami    25.7753  N   80.2089  W\n",
       "3  store#4  Jacksonville    30.3369  N   81.6614  W\n",
       "4  store#5         Tampa    27.9681  N   82.4764  W\n",
       "5  store#6       Orlando    28.4158  N   81.2989  W\n",
       "6  store#7       Hialeah    25.8606  N   80.2939  W"
      ]
     },
     "execution_count": 11,
     "metadata": {},
     "output_type": "execute_result"
    }
   ],
   "source": [
    "import pandas as pd\n",
    "data = pd.read_table('stores_location.dat', delim_whitespace=True, names = ('store', 'city', 'longitude', 'N', 'latitude','W'))\n",
    "data"
   ]
  },
  {
   "cell_type": "code",
   "execution_count": 74,
   "metadata": {},
   "outputs": [],
   "source": [
    "#Import modules \n",
    "import numpy as np\n",
    "import matplotlib.pyplot as plt\n",
    "import time \n",
    "\n",
    "\"\"\"\n",
    "Take current element and swap it with the smallest element on its right \n",
    "\"\"\"\n",
    "\n",
    "def selectionSearch(A):\n",
    "    #Start clock \n",
    "    time_start = time.perf_counter()\n",
    "    #use numpy argsort to return indicies that would sort the array \n",
    "    indx = np.argsort(A)\n",
    "    #Traverse through numpy array \n",
    "    for i in range(len(A)):\n",
    "        #initial minimum location \n",
    "        min_loc = i\n",
    "        #find location of smallest element on right \n",
    "        for j in range(i + 1, len(A)):\n",
    "            #Check if number to the right is smaller then minimum location\n",
    "            if A[j] < A[min_loc]:\n",
    "                min_loc = j\n",
    "        #Within the first for loop swap the minimum location with first element \n",
    "        A[min_loc], A[i] = A[i], A[min_loc]\n",
    "    #End clock and output elapsed time \n",
    "    time_elapsed = (time.perf_counter() - time_start)\n",
    "    print(\"Time elapsed: {}\".format(time_elapsed))\n",
    "    \n",
    "    plt.bar(range(len(A)), A, align=\"edge\")\n",
    "    \n",
    "    return A, indx"
   ]
  },
  {
   "cell_type": "code",
   "execution_count": 80,
   "metadata": {},
   "outputs": [],
   "source": [
    "A = np.random.rand(25) * 100"
   ]
  },
  {
   "cell_type": "code",
   "execution_count": 81,
   "metadata": {},
   "outputs": [
    {
     "name": "stdout",
     "output_type": "stream",
     "text": [
      "Time elapsed: 0.000342100000125356\n"
     ]
    },
    {
     "data": {
      "text/plain": [
       "(array([ 8.97877089,  9.97633531, 14.99364172, 26.11961212, 29.64261541,\n",
       "        29.79910667, 36.9610759 , 38.37101125, 41.97229762, 50.40921724,\n",
       "        50.41868913, 53.46805268, 54.57840882, 57.499985  , 61.92897589,\n",
       "        65.55677138, 66.0623136 , 69.33256792, 71.33295475, 77.88718557,\n",
       "        78.83057574, 80.24742782, 82.8809337 , 90.63805625, 91.07015536]),\n",
       " array([ 9, 22, 24,  2,  1,  8, 15, 19, 12, 11,  3, 21, 23,  7, 18, 16, 13,\n",
       "        17,  6, 20,  0,  5,  4, 10, 14], dtype=int32))"
      ]
     },
     "execution_count": 81,
     "metadata": {},
     "output_type": "execute_result"
    },
    {
     "data": {
      "image/png": "[encoded data removed]",
      "text/plain": [
       "<Figure size 432x288 with 1 Axes>"
      ]
     },
     "metadata": {
      "needs_background": "light"
     },
     "output_type": "display_data"
    }
   ],
   "source": [
    "selectionSearch(A)"
   ]
  },
  {
   "cell_type": "code",
   "execution_count": 71,
   "metadata": {},
   "outputs": [],
   "source": [
    "#Import modules \n",
    "import numpy as np\n",
    "import time \n",
    "\n",
    "\"\"\"\n",
    "moving left to right, compare consedcutive elements and switch them if \n",
    "they are out of order. Continue until no swaps are made through an entire\n",
    "sweep.\n",
    "\"\"\"\n",
    "\n",
    "def bubbleSort(A):\n",
    "    #Start clock \n",
    "    time_start = time.perf_counter()\n",
    "    #use numpy argsort to return indicies that would sort the array \n",
    "    indx = np.argsort(A)\n",
    "    #Traverse the numpy array\n",
    "    for i in range(len(A)):\n",
    "        #At each sweep compare the current j with the next value \n",
    "        #Use length minus 1 since we are comparing the current value \n",
    "        #with the next \n",
    "        for j in range((len(A) - 1) - i):\n",
    "            #Swap positions if element found is greater than the next \n",
    "            #element. Largest nums bubble to the back \n",
    "            if A[j] > A[j + 1]:\n",
    "                #Current element moves to the back \n",
    "                A[j], A[j + 1] = A[j + 1], A[j]\n",
    "    \n",
    "    #End clock and output elapsed time \n",
    "    time_elapsed = (time.perf_counter() - time_start)\n",
    "    print(\"Time elapsed: {}\".format(time_elapsed))\n",
    "    \n",
    "    return A, indx"
   ]
  },
  {
   "cell_type": "code",
   "execution_count": 72,
   "metadata": {},
   "outputs": [],
   "source": [
    "A = np.random.rand(25) * 100"
   ]
  },
  {
   "cell_type": "code",
   "execution_count": 73,
   "metadata": {},
   "outputs": [
    {
     "name": "stdout",
     "output_type": "stream",
     "text": [
      "Time elapsed: 0.000246300000071642\n"
     ]
    },
    {
     "data": {
      "text/plain": [
       "(array([ 0.48636529,  3.21869891,  4.45347957,  8.99852765, 18.0517383 ,\n",
       "        18.33045241, 20.39337949, 20.61563148, 26.18769105, 26.38791743,\n",
       "        41.06882263, 46.52262639, 47.94938671, 49.92845341, 60.47210587,\n",
       "        62.37062536, 67.00815192, 67.03535167, 68.4732523 , 82.177119  ,\n",
       "        86.34031271, 86.37879372, 87.12519665, 98.97681669, 99.60647031]),\n",
       " array([18, 15,  8,  3, 17, 14, 23, 16,  4, 24, 21,  9,  1, 12,  0,  7, 10,\n",
       "        20, 22,  5,  6, 13, 11,  2, 19], dtype=int32))"
      ]
     },
     "execution_count": 73,
     "metadata": {},
     "output_type": "execute_result"
    }
   ],
   "source": [
    "bubbleSort(A)"
   ]
  }
 ],
 "metadata": {
  "kernelspec": {
   "display_name": "Python 3",
   "language": "python",
   "name": "python3"
  },
  "language_info": {
   "codemirror_mode": {
    "name": "ipython",
    "version": 3
   },
   "file_extension": ".py",
   "mimetype": "text/x-python",
   "name": "python",
   "nbconvert_exporter": "python",
   "pygments_lexer": "ipython3",
   "version": "3.7.0"
  }
 },
 "nbformat": 4,
 "nbformat_minor": 2
}
