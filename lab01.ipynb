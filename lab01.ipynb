{
 "cells": [
  {
   "cell_type": "markdown",
   "metadata": {},
   "source": [
    "# Lab 01: Algorithm Design and Analysis\n",
    "ISC 4221<br>\n",
    "Due September 11th, 2019<br>\n",
    "Connor Poetzinger<br> "
   ]
  },
  {
   "cell_type": "markdown",
   "metadata": {},
   "source": [
    "## 1. Selection Sort"
   ]
  },
  {
   "cell_type": "markdown",
   "metadata": {},
   "source": [
    "Implementation of Selection Sort algorithm. This algorithm takes in an array of *n* real numbers to be sorted and outputs the the sorted array in ascending order as well as an index vector."
   ]
  },
  {
   "cell_type": "code",
   "execution_count": 41,
   "metadata": {},
   "outputs": [],
   "source": [
    "#Import modules \n",
    "import numpy as np\n",
    "import matplotlib.pyplot as plt\n",
    "import time \n",
    "\n",
    "\"\"\"\n",
    "Input: Numpy array of random real numbers from 0 to 100\n",
    "Output: Sorted array and index vector\n",
    "\n",
    "Goal: Take current element and swap it with the smallest element on its right \n",
    "\"\"\"\n",
    "\n",
    "def selectionSort(A):\n",
    "    #Start clock \n",
    "    time_start = time.perf_counter()\n",
    "    #use numpy argsort to return indicies that would sort the array \n",
    "    indx = np.argsort(A)\n",
    "    #Traverse through numpy array \n",
    "    for i in range(len(A)):\n",
    "        #initial minimum location \n",
    "        min_loc = i\n",
    "        #find location of smallest element on right \n",
    "        for j in range(i + 1, len(A)):\n",
    "            #Check if number to the right is smaller then minimum location\n",
    "            if A[j] < A[min_loc]:\n",
    "                min_loc = j\n",
    "        #Within the first for loop swap the minimum location with first element \n",
    "        A[min_loc], A[i] = A[i], A[min_loc]\n",
    "#     #End clock and output elapsed time \n",
    "#     time_elapsed = (time.perf_counter() - time_start)\n",
    "#     print(\"Time elapsed: {}\".format(time_elapsed))\n",
    "    \n",
    "    plt.bar(range(len(A)), A, align=\"edge\")\n",
    "    \n",
    "    return A, indx"
   ]
  },
  {
   "cell_type": "code",
   "execution_count": 42,
   "metadata": {},
   "outputs": [],
   "source": [
    "A = np.random.rand(25) * 100"
   ]
  },
  {
   "cell_type": "code",
   "execution_count": 43,
   "metadata": {},
   "outputs": [
    {
     "data": {
      "text/plain": [
       "(array([ 1.3078088 ,  1.54756278,  8.77857756, 12.20203512, 20.14577019,\n",
       "        39.39584546, 40.73911394, 43.68758335, 49.74982297, 49.91006553,\n",
       "        54.94927008, 60.39091555, 67.06969594, 71.0103074 , 72.76420415,\n",
       "        75.09980616, 75.9021707 , 77.85983997, 80.13176338, 88.79754655,\n",
       "        89.71386387, 93.19140944, 97.21829586, 97.38969981, 98.47098424]),\n",
       " array([ 4, 10, 11, 23, 19, 20, 12,  3,  0, 18,  5, 15, 17, 14, 24,  8,  1,\n",
       "         2, 16, 21,  9, 13,  7,  6, 22], dtype=int64))"
      ]
     },
     "execution_count": 43,
     "metadata": {},
     "output_type": "execute_result"
    },
    {
     "data": {
      "image/png": "[encoded data removed]",
      "text/plain": [
       "<Figure size 432x288 with 1 Axes>"
      ]
     },
     "metadata": {
      "needs_background": "light"
     },
     "output_type": "display_data"
    }
   ],
   "source": [
    "selectionSort(A)"
   ]
  },
  {
   "cell_type": "markdown",
   "metadata": {},
   "source": [
    "## 2. Bubble Sort"
   ]
  },
  {
   "cell_type": "markdown",
   "metadata": {},
   "source": [
    "Implementation of Bubble Sort algorithm. This algorithm takes in an array of *n* real numbers to be sorted and outputs the the sorted array in ascending order as well as an index vector."
   ]
  },
  {
   "cell_type": "code",
   "execution_count": 44,
   "metadata": {},
   "outputs": [],
   "source": [
    "#Import modules \n",
    "import numpy as np\n",
    "import matplotlib.pyplot as plt\n",
    "import time \n",
    "\n",
    "\"\"\"\n",
    "Input: Numpy array of random real numbers from 0 to 100\n",
    "Output: Sorted array and index vector\n",
    "\n",
    "Goal: Move left to right, compare consedcutive elements and switch them if \n",
    "they are out of order. Continue until no swaps are made through an entire\n",
    "sweep.\n",
    "\"\"\"\n",
    "\n",
    "def bubbleSort(A):\n",
    "    #Start clock \n",
    "    time_start = time.perf_counter()\n",
    "    #use numpy argsort to return indicies that would sort the array \n",
    "    indx = np.argsort(A)\n",
    "    #Traverse the numpy array\n",
    "    for i in range(len(A)):\n",
    "        #At each sweep compare the current j with the next value \n",
    "        #Use length minus 1 since we are comparing the current value \n",
    "        #with the next \n",
    "        for j in range((len(A) - 1) - i):\n",
    "            #Swap positions if element found is greater than the next \n",
    "            #element. Largest nums bubble to the back \n",
    "            if A[j] > A[j + 1]:\n",
    "                #Current element moves to the back \n",
    "                A[j], A[j + 1] = A[j + 1], A[j]\n",
    "    \n",
    "#     #End clock and output elapsed time \n",
    "#     time_elapsed = (time.perf_counter() - time_start)\n",
    "#     print(\"Time elapsed: {}\".format(time_elapsed))\n",
    "    \n",
    "    plt.bar(range(len(A)), A, align=\"edge\")\n",
    "    \n",
    "    return A, indx"
   ]
  },
  {
   "cell_type": "code",
   "execution_count": 45,
   "metadata": {},
   "outputs": [],
   "source": [
    "A = np.random.rand(25) * 100"
   ]
  },
  {
   "cell_type": "code",
   "execution_count": 46,
   "metadata": {},
   "outputs": [
    {
     "data": {
      "text/plain": [
       "(array([ 3.48860445,  4.75413762, 16.82970925, 17.05362548, 19.77025794,\n",
       "        21.40272725, 30.82780206, 34.20474845, 37.33888822, 38.64588238,\n",
       "        39.94369781, 41.81507109, 46.40383458, 51.31689591, 55.5740336 ,\n",
       "        58.62667737, 61.20537712, 61.38452037, 65.18085566, 68.58791352,\n",
       "        70.97866369, 73.51299207, 86.13095215, 91.90141282, 94.19343044]),\n",
       " array([ 4, 18,  1, 22, 24, 19, 15, 17, 21, 13, 14,  7,  3,  0,  5,  8,  9,\n",
       "        16,  2,  6, 10, 12, 11, 20, 23], dtype=int64))"
      ]
     },
     "execution_count": 46,
     "metadata": {},
     "output_type": "execute_result"
    },
    {
     "data": {
      "image/png": "[encoded data removed]",
      "text/plain": [
       "<Figure size 432x288 with 1 Axes>"
      ]
     },
     "metadata": {
      "needs_background": "light"
     },
     "output_type": "display_data"
    }
   ],
   "source": [
    "bubbleSort(A)"
   ]
  },
  {
   "cell_type": "markdown",
   "metadata": {},
   "source": [
    "## 3. A Basic Application of Sorting"
   ]
  },
  {
   "cell_type": "markdown",
   "metadata": {},
   "source": [
    "Using the haversine algorithm, find the distance between the store distance and the user inputed longitude and latitude. "
   ]
  },
  {
   "cell_type": "code",
   "execution_count": 76,
   "metadata": {},
   "outputs": [
    {
     "name": "stdout",
     "output_type": "stream",
     "text": [
      "Enter longitude: 29.1872\n",
      "Enter latitude: 82.1401\n",
      "\n",
      "Below are the closest stores from your location in ascending order\n"
     ]
    },
    {
     "data": {
      "text/html": [
       "<div>\n",
       "<style scoped>\n",
       "    .dataframe tbody tr th:only-of-type {\n",
       "        vertical-align: middle;\n",
       "    }\n",
       "\n",
       "    .dataframe tbody tr th {\n",
       "        vertical-align: top;\n",
       "    }\n",
       "\n",
       "    .dataframe thead th {\n",
       "        text-align: right;\n",
       "    }\n",
       "</style>\n",
       "<table border=\"1\" class=\"dataframe\">\n",
       "  <thead>\n",
       "    <tr style=\"text-align: right;\">\n",
       "      <th></th>\n",
       "      <th>store</th>\n",
       "      <th>city</th>\n",
       "      <th>longitude</th>\n",
       "      <th>N</th>\n",
       "      <th>latitude</th>\n",
       "      <th>W</th>\n",
       "      <th>distance</th>\n",
       "    </tr>\n",
       "  </thead>\n",
       "  <tbody>\n",
       "    <tr>\n",
       "      <th>0</th>\n",
       "      <td>store#1</td>\n",
       "      <td>Tallahassee</td>\n",
       "      <td>30.4550</td>\n",
       "      <td>N</td>\n",
       "      <td>84.2533</td>\n",
       "      <td>W</td>\n",
       "      <td>146.499565</td>\n",
       "    </tr>\n",
       "    <tr>\n",
       "      <th>1</th>\n",
       "      <td>store#2</td>\n",
       "      <td>Gainesville</td>\n",
       "      <td>29.6520</td>\n",
       "      <td>N</td>\n",
       "      <td>82.3250</td>\n",
       "      <td>W</td>\n",
       "      <td>13.506884</td>\n",
       "    </tr>\n",
       "    <tr>\n",
       "      <th>2</th>\n",
       "      <td>store#3</td>\n",
       "      <td>Miami</td>\n",
       "      <td>25.7753</td>\n",
       "      <td>N</td>\n",
       "      <td>80.2089</td>\n",
       "      <td>W</td>\n",
       "      <td>138.320361</td>\n",
       "    </tr>\n",
       "    <tr>\n",
       "      <th>3</th>\n",
       "      <td>store#4</td>\n",
       "      <td>Jacksonville</td>\n",
       "      <td>30.3369</td>\n",
       "      <td>N</td>\n",
       "      <td>81.6614</td>\n",
       "      <td>W</td>\n",
       "      <td>34.952699</td>\n",
       "    </tr>\n",
       "    <tr>\n",
       "      <th>4</th>\n",
       "      <td>store#5</td>\n",
       "      <td>Tampa</td>\n",
       "      <td>27.9681</td>\n",
       "      <td>N</td>\n",
       "      <td>82.4764</td>\n",
       "      <td>W</td>\n",
       "      <td>25.852982</td>\n",
       "    </tr>\n",
       "    <tr>\n",
       "      <th>5</th>\n",
       "      <td>store#6</td>\n",
       "      <td>Orlando</td>\n",
       "      <td>28.4158</td>\n",
       "      <td>N</td>\n",
       "      <td>81.2989</td>\n",
       "      <td>W</td>\n",
       "      <td>58.685998</td>\n",
       "    </tr>\n",
       "    <tr>\n",
       "      <th>6</th>\n",
       "      <td>store#7</td>\n",
       "      <td>Hialeah</td>\n",
       "      <td>25.8606</td>\n",
       "      <td>N</td>\n",
       "      <td>80.2939</td>\n",
       "      <td>W</td>\n",
       "      <td>132.373499</td>\n",
       "    </tr>\n",
       "  </tbody>\n",
       "</table>\n",
       "</div>"
      ],
      "text/plain": [
       "     store          city  longitude  N  latitude  W    distance\n",
       "0  store#1   Tallahassee    30.4550  N   84.2533  W  146.499565\n",
       "1  store#2   Gainesville    29.6520  N   82.3250  W   13.506884\n",
       "2  store#3         Miami    25.7753  N   80.2089  W  138.320361\n",
       "3  store#4  Jacksonville    30.3369  N   81.6614  W   34.952699\n",
       "4  store#5         Tampa    27.9681  N   82.4764  W   25.852982\n",
       "5  store#6       Orlando    28.4158  N   81.2989  W   58.685998\n",
       "6  store#7       Hialeah    25.8606  N   80.2939  W  132.373499"
      ]
     },
     "execution_count": 76,
     "metadata": {},
     "output_type": "execute_result"
    }
   ],
   "source": [
    "import numpy as np \n",
    "import pandas as pd \n",
    "\n",
    "def haversin():\n",
    "    \n",
    "    \"\"\"\n",
    "    This function reads in user latitude and logitude to simulate logging customer\n",
    "    call locations. The user's long and lat are then converted to radians along \n",
    "    with other pre-defined longs and lats imported from a text file and save to a \n",
    "    pandas dataframe. The function then computes the distance from the caller to \n",
    "    the the stores in the dataframe using the haversine formula. The distances are\n",
    "    then sorted in ascending order and printed out to provide the customer with \n",
    "    a list of closest stores, and how many miles to the store. \n",
    "    \"\"\"\n",
    "    \n",
    "    #Read in user long and lat \n",
    "    #must transform string values to float \n",
    "    lon1 = float(input(\"Enter longitude: \"))\n",
    "    lat1 = float(input(\"Enter latitude: \"))\n",
    "    \n",
    "    #import data table \n",
    "    #use pandas to assign columns using strings \n",
    "    data = pd.read_table('stores_location.dat', delim_whitespace=True, names = ('store', 'city', 'longitude', 'N', 'latitude','W'))\n",
    "    \n",
    "    #Radius of earth from the equator in miles (found on google)\n",
    "    R = 3963.0\n",
    "    \n",
    "    #assign user lat and lon and datatable lat and long to variables\n",
    "    #I use the in-built function map to assign the numpy function np.radians to the degree\n",
    "    #lats and long to transform degree into radians \n",
    "    lat1, lon1, lat2, lon2 = map(np.radians, [lat1, lon1, data.latitude, data.longitude])\n",
    "    \n",
    "    #calculate the distance between the lats and longs\n",
    "    lon_dist = lon2 - lon1\n",
    "    lat_dist = lat2 - lat1\n",
    "    \n",
    "    #apply haversine formula \n",
    "    #np cos and sin provide for faster calculations \n",
    "    c = 2 * R * np.arcsin(np.sqrt((np.sin(lat_dist)/2)**2 + np.cos(lat1) * np.cos(lat2) * np.sin((lon_dist)/2)**2 ))\n",
    "    \n",
    "    #prompt user for the info provided \n",
    "    print(\"\\nBelow are the closest stores from your location in ascending order\")\n",
    "    #apply selection sort \n",
    "    #selectionSort(c)\n",
    "    data['distance'] = c\n",
    "    \n",
    "    sorted_result = selectionSort(c)\n",
    "    return\n",
    "\n",
    "data['distance'] = haversin()\n",
    "data"
   ]
  }
 ],
 "metadata": {
  "kernelspec": {
   "display_name": "Python 3",
   "language": "python",
   "name": "python3"
  },
  "language_info": {
   "codemirror_mode": {
    "name": "ipython",
    "version": 3
   },
   "file_extension": ".py",
   "mimetype": "text/x-python",
   "name": "python",
   "nbconvert_exporter": "python",
   "pygments_lexer": "ipython3",
   "version": "3.7.1"
  }
 },
 "nbformat": 4,
 "nbformat_minor": 2
}
