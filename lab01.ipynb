{
 "cells": [
  {
   "cell_type": "code",
   "execution_count": 11,
   "metadata": {},
   "outputs": [
    {
     "data": {
      "text/html": [
       "<div>\n",
       "<style scoped>\n",
       "    .dataframe tbody tr th:only-of-type {\n",
       "        vertical-align: middle;\n",
       "    }\n",
       "\n",
       "    .dataframe tbody tr th {\n",
       "        vertical-align: top;\n",
       "    }\n",
       "\n",
       "    .dataframe thead th {\n",
       "        text-align: right;\n",
       "    }\n",
       "</style>\n",
       "<table border=\"1\" class=\"dataframe\">\n",
       "  <thead>\n",
       "    <tr style=\"text-align: right;\">\n",
       "      <th></th>\n",
       "      <th>store</th>\n",
       "      <th>city</th>\n",
       "      <th>longitude</th>\n",
       "      <th>N</th>\n",
       "      <th>latitude</th>\n",
       "      <th>W</th>\n",
       "    </tr>\n",
       "  </thead>\n",
       "  <tbody>\n",
       "    <tr>\n",
       "      <td>0</td>\n",
       "      <td>store#1</td>\n",
       "      <td>Tallahassee</td>\n",
       "      <td>30.4550</td>\n",
       "      <td>N</td>\n",
       "      <td>84.2533</td>\n",
       "      <td>W</td>\n",
       "    </tr>\n",
       "    <tr>\n",
       "      <td>1</td>\n",
       "      <td>store#2</td>\n",
       "      <td>Gainesville</td>\n",
       "      <td>29.6520</td>\n",
       "      <td>N</td>\n",
       "      <td>82.3250</td>\n",
       "      <td>W</td>\n",
       "    </tr>\n",
       "    <tr>\n",
       "      <td>2</td>\n",
       "      <td>store#3</td>\n",
       "      <td>Miami</td>\n",
       "      <td>25.7753</td>\n",
       "      <td>N</td>\n",
       "      <td>80.2089</td>\n",
       "      <td>W</td>\n",
       "    </tr>\n",
       "    <tr>\n",
       "      <td>3</td>\n",
       "      <td>store#4</td>\n",
       "      <td>Jacksonville</td>\n",
       "      <td>30.3369</td>\n",
       "      <td>N</td>\n",
       "      <td>81.6614</td>\n",
       "      <td>W</td>\n",
       "    </tr>\n",
       "    <tr>\n",
       "      <td>4</td>\n",
       "      <td>store#5</td>\n",
       "      <td>Tampa</td>\n",
       "      <td>27.9681</td>\n",
       "      <td>N</td>\n",
       "      <td>82.4764</td>\n",
       "      <td>W</td>\n",
       "    </tr>\n",
       "    <tr>\n",
       "      <td>5</td>\n",
       "      <td>store#6</td>\n",
       "      <td>Orlando</td>\n",
       "      <td>28.4158</td>\n",
       "      <td>N</td>\n",
       "      <td>81.2989</td>\n",
       "      <td>W</td>\n",
       "    </tr>\n",
       "    <tr>\n",
       "      <td>6</td>\n",
       "      <td>store#7</td>\n",
       "      <td>Hialeah</td>\n",
       "      <td>25.8606</td>\n",
       "      <td>N</td>\n",
       "      <td>80.2939</td>\n",
       "      <td>W</td>\n",
       "    </tr>\n",
       "  </tbody>\n",
       "</table>\n",
       "</div>"
      ],
      "text/plain": [
       "     store          city  longitude  N  latitude  W\n",
       "0  store#1   Tallahassee    30.4550  N   84.2533  W\n",
       "1  store#2   Gainesville    29.6520  N   82.3250  W\n",
       "2  store#3         Miami    25.7753  N   80.2089  W\n",
       "3  store#4  Jacksonville    30.3369  N   81.6614  W\n",
       "4  store#5         Tampa    27.9681  N   82.4764  W\n",
       "5  store#6       Orlando    28.4158  N   81.2989  W\n",
       "6  store#7       Hialeah    25.8606  N   80.2939  W"
      ]
     },
     "execution_count": 11,
     "metadata": {},
     "output_type": "execute_result"
    }
   ],
   "source": [
    "import pandas as pd\n",
    "data = pd.read_table('stores_location.dat', delim_whitespace=True, names = ('store', 'city', 'longitude', 'N', 'latitude','W'))\n",
    "data"
   ]
  },
  {
   "cell_type": "code",
   "execution_count": 58,
   "metadata": {},
   "outputs": [],
   "source": [
    "import numpy as np \n",
    "\n",
    "def selectionSearch(A):\n",
    "    #use numpy argsort to return indicies that would sort the array \n",
    "    indx = np.argsort(A)\n",
    "    #Traverse through numpy array \n",
    "    for i in range(len(A)):\n",
    "        #initial minimum location \n",
    "        min_loc = i\n",
    "        #find location of smallest element on right \n",
    "        for j in range(i + 1, len(A)):\n",
    "            #Check if number to the right is smaller then minimum location\n",
    "            if A[j] < A[min_loc]:\n",
    "                min_loc = j\n",
    "        #Within the first for loop swap the minimum location with first element \n",
    "        A[min_loc], A[i] = A[i], A[min_loc]\n",
    "    \n",
    "    return A, indx"
   ]
  },
  {
   "cell_type": "code",
   "execution_count": 64,
   "metadata": {},
   "outputs": [
    {
     "data": {
      "text/plain": [
       "(array([ 0.90721523, 16.54928166, 25.52236388, 26.60734164, 29.00118971,\n",
       "        31.88875098, 36.30040202, 36.88660358, 53.42127779, 55.36322847,\n",
       "        55.68976494, 60.26986475, 67.50090213, 71.5043357 , 72.4968277 ,\n",
       "        74.38201469, 75.45784003, 76.13983337, 76.22507462, 84.35775607,\n",
       "        91.32904795, 91.3700662 , 91.58054875, 96.61009071, 98.93875448]),\n",
       " array([10, 21,  5, 17,  4,  3,  2, 20, 14, 11, 13, 24, 16,  6,  0,  8,  7,\n",
       "        22, 18, 19,  1, 12,  9, 23, 15], dtype=int32))"
      ]
     },
     "execution_count": 64,
     "metadata": {},
     "output_type": "execute_result"
    }
   ],
   "source": [
    "A = np.random.rand(25) * 100\n",
    "selectionSearch(A)"
   ]
  },
  {
   "cell_type": "code",
   "execution_count": 92,
   "metadata": {},
   "outputs": [],
   "source": [
    "def bubbleSort(A):\n",
    "    #Traverse the numpy array\n",
    "    #Use length minus 1 since we are comparing the current value with the next \n",
    "    for i in range(len(A) - 1):\n",
    "        #At each sweep compare the current j with the next value \n",
    "        for j in range((len(A) - 1) - i):\n",
    "            #Swap positions if left values are larger than right to move large numbers to the back \n",
    "            if A[j] > A[j + 1]:\n",
    "                A[j], A[j + 1] = A[j + 1], A[j]\n",
    "    return A"
   ]
  },
  {
   "cell_type": "code",
   "execution_count": 93,
   "metadata": {},
   "outputs": [
    {
     "data": {
      "text/plain": [
       "array([ 0.25238487, 13.64547363, 16.67375204, 17.67899187, 18.14187173,\n",
       "       19.19779346, 19.75387073, 23.99306179, 30.68772458, 31.89431154,\n",
       "       34.2022213 , 47.38815967, 49.70837744, 57.99367017, 59.95207004,\n",
       "       64.6093734 , 67.31752023, 69.3533409 , 78.10984328, 79.52631413,\n",
       "       80.3064658 , 83.97396141, 85.9983501 , 92.38132978, 96.21716624])"
      ]
     },
     "execution_count": 93,
     "metadata": {},
     "output_type": "execute_result"
    }
   ],
   "source": [
    "A = np.random.rand(25) * 100\n",
    "bubbleSort(A)"
   ]
  }
 ],
 "metadata": {
  "kernelspec": {
   "display_name": "Python 3",
   "language": "python",
   "name": "python3"
  },
  "language_info": {
   "codemirror_mode": {
    "name": "ipython",
    "version": 3
   },
   "file_extension": ".py",
   "mimetype": "text/x-python",
   "name": "python",
   "nbconvert_exporter": "python",
   "pygments_lexer": "ipython3",
   "version": "3.7.0"
  }
 },
 "nbformat": 4,
 "nbformat_minor": 2
}
