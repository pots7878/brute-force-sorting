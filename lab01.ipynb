{
 "cells": [
  {
   "cell_type": "markdown",
   "metadata": {},
   "source": [
    "# Lab 01: Algorithm Design and Analysis\n",
    "ISC 4221<br>\n",
    "Due September 11th, 2019<br>\n",
    "Connor Poetzinger<br> "
   ]
  },
  {
   "cell_type": "markdown",
   "metadata": {},
   "source": [
    "## 1. Selection Sort"
   ]
  },
  {
   "cell_type": "markdown",
   "metadata": {},
   "source": [
    "Implementation of Selection Sort algorithm. This algorithm takes in an array of *n* real numbers to be sorted and outputs the the sorted array in ascending order as well as an index vector."
   ]
  },
  {
   "cell_type": "code",
   "execution_count": 1,
   "metadata": {},
   "outputs": [],
   "source": [
    "#Import modules \n",
    "import numpy as np\n",
    "\"\"\"\n",
    "Input: Numpy array of random real numbers from 0 to 100\n",
    "Output: Sorted array and index vector\n",
    "\n",
    "Goal: Take current element and swap it with the smallest element on its right \n",
    "\"\"\"\n",
    "\n",
    "def selectionSort(A):\n",
    "    #use numpy argsort to return indicies that would sort the array \n",
    "    indx = np.argsort(A)\n",
    "    #Traverse through numpy array \n",
    "    for i in range(len(A)):\n",
    "        #initial minimum location \n",
    "        min_loc = i\n",
    "        #find location of smallest element on right \n",
    "        for j in range(i + 1, len(A)):\n",
    "            #Check if number to the right is smaller then minimum location\n",
    "            if A[j] < A[min_loc]:\n",
    "                min_loc = j\n",
    "        #Within the first for loop swap the minimum location with first element \n",
    "        A[min_loc], A[i] = A[i], A[min_loc]\n",
    "    \n",
    "    return A, indx"
   ]
  },
  {
   "cell_type": "code",
   "execution_count": 2,
   "metadata": {},
   "outputs": [
    {
     "name": "stdout",
     "output_type": "stream",
     "text": [
      "Unsorted list or random floats from 0-100\n",
      "\n",
      " [84.51072645 75.41110101 29.89915731 69.86006121 88.50108385 93.57665455\n",
      " 16.27665239 97.26734289 33.4728781   6.77392892 77.19066636 63.13768262\n",
      " 14.43479252 52.36400697 55.67741168 47.0662365  25.8872446  81.14967202\n",
      " 20.80098299 18.86218278 46.80263541 79.34956518 53.94922409 60.26605507\n",
      " 22.26789957]\n"
     ]
    }
   ],
   "source": [
    "A = np.random.rand(25) * 100\n",
    "print(\"Unsorted list or random floats from 0-100\\n\\n\", A)"
   ]
  },
  {
   "cell_type": "code",
   "execution_count": 3,
   "metadata": {},
   "outputs": [
    {
     "name": "stdout",
     "output_type": "stream",
     "text": [
      "Sorted list of random floats from 0-100 and its position indicies\n",
      "\n",
      " [ 6.77392892 14.43479252 16.27665239 18.86218278 20.80098299 22.26789957\n",
      " 25.8872446  29.89915731 33.4728781  46.80263541 47.0662365  52.36400697\n",
      " 53.94922409 55.67741168 60.26605507 63.13768262 69.86006121 75.41110101\n",
      " 77.19066636 79.34956518 81.14967202 84.51072645 88.50108385 93.57665455\n",
      " 97.26734289] \n",
      "\n",
      " [ 9 12  6 19 18 24 16  2  8 20 15 13 22 14 23 11  3  1 10 21 17  0  4  5\n",
      "  7]\n"
     ]
    }
   ],
   "source": [
    "B, indxd = selectionSort(A)\n",
    "print(\"Sorted list of random floats from 0-100 and its position indicies\\n\\n\", B, \"\\n\\n\", indxd)"
   ]
  },
  {
   "cell_type": "markdown",
   "metadata": {},
   "source": [
    "## 2. Bubble Sort"
   ]
  },
  {
   "cell_type": "markdown",
   "metadata": {},
   "source": [
    "Implementation of Bubble Sort algorithm. This algorithm takes in an array of *n* real numbers to be sorted and outputs the the sorted array in ascending order as well as an index vector."
   ]
  },
  {
   "cell_type": "code",
   "execution_count": 4,
   "metadata": {},
   "outputs": [],
   "source": [
    "#Import modules \n",
    "import numpy as np\n",
    "\"\"\"\n",
    "Input: Numpy array of random real numbers from 0 to 100\n",
    "Output: Sorted array and index vector\n",
    "\n",
    "Goal: Move left to right, compare consedcutive elements and switch them if \n",
    "they are out of order. Continue until no swaps are made through an entire\n",
    "sweep.\n",
    "\"\"\"\n",
    "\n",
    "def bubbleSort(A):\n",
    "    #use numpy argsort to return indicies that would sort the array \n",
    "    indx = np.argsort(A)\n",
    "    #Traverse the numpy array\n",
    "    for i in range(len(A)):\n",
    "        #At each sweep compare the current j with the next value \n",
    "        #Use length minus 1 since we are comparing the current value \n",
    "        #with the next \n",
    "        for j in range((len(A) - 1) - i):\n",
    "            #Swap positions if element found is greater than the next \n",
    "            #element. Largest nums bubble to the back \n",
    "            if A[j] > A[j + 1]:\n",
    "                #Current element moves to the back \n",
    "                A[j], A[j + 1] = A[j + 1], A[j]\n",
    "    \n",
    "    return A, indx"
   ]
  },
  {
   "cell_type": "code",
   "execution_count": 5,
   "metadata": {},
   "outputs": [
    {
     "name": "stdout",
     "output_type": "stream",
     "text": [
      "Unsorted list or random floats from 0-100\n",
      "\n",
      " [33.40713158 43.88588858 35.91324338 92.57478295  1.83854881 68.94500976\n",
      " 14.97275798 93.35713468 31.20660497  9.46817711 45.76029049 64.69395618\n",
      " 47.18885866 73.34510341 17.87854299 85.53554301 89.22555663 21.45257256\n",
      " 46.64392853 50.22647229 65.91640387  2.77992469 89.28895248 81.66166671\n",
      " 70.42408651]\n"
     ]
    }
   ],
   "source": [
    "A = np.random.rand(25) * 100\n",
    "print(\"Unsorted list or random floats from 0-100\\n\\n\", A)"
   ]
  },
  {
   "cell_type": "code",
   "execution_count": 6,
   "metadata": {},
   "outputs": [
    {
     "name": "stdout",
     "output_type": "stream",
     "text": [
      "Sorted list of random floats from 0-100 and its position indicies\n",
      "\n",
      " [ 1.83854881  2.77992469  9.46817711 14.97275798 17.87854299 21.45257256\n",
      " 31.20660497 33.40713158 35.91324338 43.88588858 45.76029049 46.64392853\n",
      " 47.18885866 50.22647229 64.69395618 65.91640387 68.94500976 70.42408651\n",
      " 73.34510341 81.66166671 85.53554301 89.22555663 89.28895248 92.57478295\n",
      " 93.35713468] \n",
      "\n",
      " [ 4 21  9  6 14 17  8  0  2  1 10 18 12 19 11 20  5 24 13 23 15 16 22  3\n",
      "  7]\n"
     ]
    }
   ],
   "source": [
    "B, indxd = bubbleSort(A)\n",
    "print(\"Sorted list of random floats from 0-100 and its position indicies\\n\\n\", B, \"\\n\\n\", indxd)"
   ]
  },
  {
   "cell_type": "markdown",
   "metadata": {},
   "source": [
    "## 3. A Basic Application of Sorting"
   ]
  },
  {
   "cell_type": "markdown",
   "metadata": {},
   "source": [
    "Using the haversine algorithm, find the distance between the store distance and the user inputed longitude and latitude. "
   ]
  },
  {
   "cell_type": "code",
   "execution_count": 7,
   "metadata": {},
   "outputs": [],
   "source": [
    "import numpy as np \n",
    "import pandas as pd \n",
    "\n",
    "def haversin(data):\n",
    "    \n",
    "    \"\"\"\n",
    "    This function reads in user latitude and logitude to simulate logging customer\n",
    "    call locations. The user's long and lat are then converted to radians along \n",
    "    with other pre-defined longs and lats imported from a text file and save to a \n",
    "    pandas dataframe. The function then computes the distance from the caller to \n",
    "    the the stores in the dataframe using the haversine formula. The distances are\n",
    "    then sorted in ascending order and printed out to provide the customer with \n",
    "    a list of closest stores, and how many miles to the store. \n",
    "    \"\"\"\n",
    "    \n",
    "    #Read in user long and lat \n",
    "    #must transform string values to float \n",
    "    lon1 = float(input(\"Enter longitude: \"))\n",
    "    lat1 = float(input(\"Enter latitude: \"))\n",
    "    \n",
    "    #Radius of earth from the equator in miles (found on google)\n",
    "    R = 3963.0\n",
    "    \n",
    "    #assign user lat and lon and datatable lat and long to variables\n",
    "    #I use the in-built function map to assign the numpy function np.radians to the degree\n",
    "    #lats and long to transform degree into radians \n",
    "    lat1, lon1, lat2, lon2 = map(np.radians, [lat1, lon1, data.latitude, data.longitude])\n",
    "    \n",
    "    #calculate the distance between the lats and longs\n",
    "    lon_dist = lon2 - lon1\n",
    "    lat_dist = lat2 - lat1\n",
    "    \n",
    "    #apply haversine formula \n",
    "    #np cos and sin provide for faster calculations \n",
    "    c = 2 * R * np.arcsin(np.sqrt((np.sin(lat_dist)/2)**2 + np.cos(lat1) * np.cos(lat2) * np.sin((lon_dist)/2)**2 ))\n",
    "    \n",
    "    #prompt user for the info provided \n",
    "    print(\"\\nBelow are the closest stores from your location in ascending order\\n\")\n",
    "    \n",
    "    #apply selection sort\n",
    "    sorted_result, indx = selectionSort(c)\n",
    "    \n",
    "    return sorted_result, indx"
   ]
  },
  {
   "cell_type": "code",
   "execution_count": 8,
   "metadata": {},
   "outputs": [
    {
     "name": "stdout",
     "output_type": "stream",
     "text": [
      "Enter longitude: 82\n",
      "Enter latitude: 29\n",
      "\n",
      "Below are the closest stores from your location in ascending order\n",
      "\n",
      "Store          City  Distance(m)\n",
      "store#2   Gainesville    49.170962\n",
      "store#6       Orlando    58.666064\n",
      "store#5         Tampa    77.023368\n",
      "store#4  Jacksonville    94.676263\n",
      "store#1   Tallahassee   168.646953\n",
      "store#7       Hialeah   241.000734\n",
      "store#3         Miami   248.602665\n"
     ]
    }
   ],
   "source": [
    "#import data table \n",
    "#use pandas to assign columns using strings \n",
    "data = pd.read_table('stores_location.dat', delim_whitespace=True, names = ('store', 'city', 'latitude', 'N', 'longitude','W'))\n",
    "\n",
    "#call function \n",
    "sorted_dist , indx = haversin(data)\n",
    "\n",
    "#Sort the cities and stores based on the index from selectionSort(c)\n",
    "sorted_cities = [data['city'][indx[i]] for i in range(len(data))]\n",
    "sorted_stores = [data['store'][indx[i]] for i in range(len(data))]\n",
    "\n",
    "#create a tuple to package store num, city, and dist together\n",
    "sorted_zip = list(zip(sorted_stores, sorted_cities, sorted_dist))\n",
    "\n",
    "#Create output dataframe\n",
    "final_sort = pd.DataFrame(sorted_zip, columns=['Store','City','Distance(m)'])\n",
    "print(final_sort.to_string(index=False))"
   ]
  }
 ],
 "metadata": {
  "kernelspec": {
   "display_name": "Python 3",
   "language": "python",
   "name": "python3"
  },
  "language_info": {
   "codemirror_mode": {
    "name": "ipython",
    "version": 3
   },
   "file_extension": ".py",
   "mimetype": "text/x-python",
   "name": "python",
   "nbconvert_exporter": "python",
   "pygments_lexer": "ipython3",
   "version": "3.7.1"
  }
 },
 "nbformat": 4,
 "nbformat_minor": 2
}
