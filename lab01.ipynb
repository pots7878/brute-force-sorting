{
 "cells": [
  {
   "cell_type": "markdown",
   "metadata": {},
   "source": [
    "# Lab 01: Algorithm Design and Analysis\n",
    "ISC 4221<br>\n",
    "Due September 11th, 2019<br>\n",
    "Connor Poetzinger<br> "
   ]
  },
  {
   "cell_type": "markdown",
   "metadata": {},
   "source": [
    "## 1. Selection Sort"
   ]
  },
  {
   "cell_type": "markdown",
   "metadata": {},
   "source": [
    "Implementation of Selection Sort algorithm. This algorithm takes in an array of *n* real numbers to be sorted and outputs the the sorted array in ascending order as well as an index vector."
   ]
  },
  {
   "cell_type": "code",
   "execution_count": 1,
   "metadata": {},
   "outputs": [],
   "source": [
    "#Import modules \n",
    "import numpy as np\n",
    "\"\"\"\n",
    "Input: Numpy array of random real numbers from 0 to 100\n",
    "Output: Sorted array and index vector\n",
    "\n",
    "Goal: Take current element and swap it with the smallest element on its right \n",
    "\"\"\"\n",
    "\n",
    "def selectionSort(A):\n",
    "    #use numpy argsort to return indicies that would sort the array \n",
    "    indx = np.argsort(A)\n",
    "    #Traverse through numpy array \n",
    "    for i in range(len(A)):\n",
    "        #initial minimum location \n",
    "        min_loc = i\n",
    "        #find location of smallest element on right \n",
    "        for j in range(i + 1, len(A)):\n",
    "            #Check if number to the right is smaller then minimum location\n",
    "            if A[j] < A[min_loc]:\n",
    "                min_loc = j\n",
    "        #Within the first for loop swap the minimum location with first element \n",
    "        A[min_loc], A[i] = A[i], A[min_loc]\n",
    "    \n",
    "    return A, indx"
   ]
  },
  {
   "cell_type": "code",
   "execution_count": 6,
   "metadata": {},
   "outputs": [
    {
     "data": {
      "text/plain": [
       "array([43.68876071, 84.94889998, 14.75799518, 43.17786439, 40.37966961,\n",
       "       44.83155606, 36.44750536, 35.71939085, 47.48190455, 87.23586669,\n",
       "       66.97936385, 56.24355773, 75.66317062, 70.85055193, 24.64453212,\n",
       "       85.49647876, 54.03985859, 87.61766933, 15.7937557 , 82.61693189,\n",
       "       90.11162502, 42.93941659, 11.25919458, 25.57466831, 41.67145185])"
      ]
     },
     "execution_count": 6,
     "metadata": {},
     "output_type": "execute_result"
    }
   ],
   "source": [
    "A = np.random.rand(25) * 100\n",
    "A"
   ]
  },
  {
   "cell_type": "code",
   "execution_count": 7,
   "metadata": {},
   "outputs": [
    {
     "data": {
      "text/plain": [
       "(array([11.25919458, 14.75799518, 15.7937557 , 24.64453212, 25.57466831,\n",
       "        35.71939085, 36.44750536, 40.37966961, 41.67145185, 42.93941659,\n",
       "        43.17786439, 43.68876071, 44.83155606, 47.48190455, 54.03985859,\n",
       "        56.24355773, 66.97936385, 70.85055193, 75.66317062, 82.61693189,\n",
       "        84.94889998, 85.49647876, 87.23586669, 87.61766933, 90.11162502]),\n",
       " array([22,  2, 18, 14, 23,  7,  6,  4, 24, 21,  3,  0,  5,  8, 16, 11, 10,\n",
       "        13, 12, 19,  1, 15,  9, 17, 20], dtype=int32))"
      ]
     },
     "execution_count": 7,
     "metadata": {},
     "output_type": "execute_result"
    }
   ],
   "source": [
    "selectionSort(A)"
   ]
  },
  {
   "cell_type": "markdown",
   "metadata": {},
   "source": [
    "## 2. Bubble Sort"
   ]
  },
  {
   "cell_type": "markdown",
   "metadata": {},
   "source": [
    "Implementation of Bubble Sort algorithm. This algorithm takes in an array of *n* real numbers to be sorted and outputs the the sorted array in ascending order as well as an index vector."
   ]
  },
  {
   "cell_type": "code",
   "execution_count": 11,
   "metadata": {},
   "outputs": [],
   "source": [
    "#Import modules \n",
    "import numpy as np\n",
    "\"\"\"\n",
    "Input: Numpy array of random real numbers from 0 to 100\n",
    "Output: Sorted array and index vector\n",
    "\n",
    "Goal: Move left to right, compare consedcutive elements and switch them if \n",
    "they are out of order. Continue until no swaps are made through an entire\n",
    "sweep.\n",
    "\"\"\"\n",
    "\n",
    "def bubbleSort(A):\n",
    "    #use numpy argsort to return indicies that would sort the array \n",
    "    indx = np.argsort(A)\n",
    "    #Traverse the numpy array\n",
    "    for i in range(len(A)):\n",
    "        #At each sweep compare the current j with the next value \n",
    "        #Use length minus 1 since we are comparing the current value \n",
    "        #with the next \n",
    "        for j in range((len(A) - 1) - i):\n",
    "            #Swap positions if element found is greater than the next \n",
    "            #element. Largest nums bubble to the back \n",
    "            if A[j] > A[j + 1]:\n",
    "                #Current element moves to the back \n",
    "                A[j], A[j + 1] = A[j + 1], A[j]\n",
    "    \n",
    "    return A, indx"
   ]
  },
  {
   "cell_type": "code",
   "execution_count": 12,
   "metadata": {},
   "outputs": [
    {
     "data": {
      "text/plain": [
       "array([27.86483988, 22.43284541, 22.82710413, 20.60534971, 51.10798082,\n",
       "       67.35109439, 80.00961744,  2.03401364, 33.77106211, 63.51320345,\n",
       "       51.14835546, 74.59618609, 75.53728165, 84.25138998, 16.63771714,\n",
       "       77.83688885, 14.03892689, 57.59482158, 92.55267846,  5.41291683,\n",
       "       41.37619183, 54.49078943, 38.51575659, 78.46253161, 48.82141606])"
      ]
     },
     "execution_count": 12,
     "metadata": {},
     "output_type": "execute_result"
    }
   ],
   "source": [
    "A = np.random.rand(25) * 100\n",
    "A"
   ]
  },
  {
   "cell_type": "code",
   "execution_count": 13,
   "metadata": {},
   "outputs": [
    {
     "data": {
      "text/plain": [
       "(array([ 2.03401364,  5.41291683, 14.03892689, 16.63771714, 20.60534971,\n",
       "        22.43284541, 22.82710413, 27.86483988, 33.77106211, 38.51575659,\n",
       "        41.37619183, 48.82141606, 51.10798082, 51.14835546, 54.49078943,\n",
       "        57.59482158, 63.51320345, 67.35109439, 74.59618609, 75.53728165,\n",
       "        77.83688885, 78.46253161, 80.00961744, 84.25138998, 92.55267846]),\n",
       " array([ 7, 19, 16, 14,  3,  1,  2,  0,  8, 22, 20, 24,  4, 10, 21, 17,  9,\n",
       "         5, 11, 12, 15, 23,  6, 13, 18], dtype=int32))"
      ]
     },
     "execution_count": 13,
     "metadata": {},
     "output_type": "execute_result"
    }
   ],
   "source": [
    "bubbleSort(A)"
   ]
  },
  {
   "cell_type": "markdown",
   "metadata": {},
   "source": [
    "## 3. A Basic Application of Sorting"
   ]
  },
  {
   "cell_type": "markdown",
   "metadata": {},
   "source": [
    "Using the haversine algorithm, find the distance between the store distance and the user inputed longitude and latitude. "
   ]
  },
  {
   "cell_type": "code",
   "execution_count": 27,
   "metadata": {},
   "outputs": [
    {
     "name": "stdout",
     "output_type": "stream",
     "text": [
      "Enter longitude: 82.1401\n",
      "Enter latitude: 29.1872\n",
      "\n",
      "Below are the closest stores from your location in ascending order\n"
     ]
    },
    {
     "data": {
      "text/html": [
       "<div>\n",
       "<style scoped>\n",
       "    .dataframe tbody tr th:only-of-type {\n",
       "        vertical-align: middle;\n",
       "    }\n",
       "\n",
       "    .dataframe tbody tr th {\n",
       "        vertical-align: top;\n",
       "    }\n",
       "\n",
       "    .dataframe thead th {\n",
       "        text-align: right;\n",
       "    }\n",
       "</style>\n",
       "<table border=\"1\" class=\"dataframe\">\n",
       "  <thead>\n",
       "    <tr style=\"text-align: right;\">\n",
       "      <th></th>\n",
       "      <th>Store</th>\n",
       "      <th>City</th>\n",
       "      <th>Distance(m)</th>\n",
       "    </tr>\n",
       "  </thead>\n",
       "  <tbody>\n",
       "    <tr>\n",
       "      <td>0</td>\n",
       "      <td>store#2</td>\n",
       "      <td>Gainesville</td>\n",
       "      <td>34.024058</td>\n",
       "    </tr>\n",
       "    <tr>\n",
       "      <td>1</td>\n",
       "      <td>store#6</td>\n",
       "      <td>Orlando</td>\n",
       "      <td>73.798287</td>\n",
       "    </tr>\n",
       "    <tr>\n",
       "      <td>2</td>\n",
       "      <td>store#4</td>\n",
       "      <td>Jacksonville</td>\n",
       "      <td>84.552802</td>\n",
       "    </tr>\n",
       "    <tr>\n",
       "      <td>3</td>\n",
       "      <td>store#5</td>\n",
       "      <td>Tampa</td>\n",
       "      <td>86.756136</td>\n",
       "    </tr>\n",
       "    <tr>\n",
       "      <td>4</td>\n",
       "      <td>store#1</td>\n",
       "      <td>Tallahassee</td>\n",
       "      <td>154.167562</td>\n",
       "    </tr>\n",
       "    <tr>\n",
       "      <td>5</td>\n",
       "      <td>store#7</td>\n",
       "      <td>Hialeah</td>\n",
       "      <td>256.349820</td>\n",
       "    </tr>\n",
       "    <tr>\n",
       "      <td>6</td>\n",
       "      <td>store#3</td>\n",
       "      <td>Miami</td>\n",
       "      <td>263.966405</td>\n",
       "    </tr>\n",
       "  </tbody>\n",
       "</table>\n",
       "</div>"
      ],
      "text/plain": [
       "     Store          City  Distance(m)\n",
       "0  store#2   Gainesville    34.024058\n",
       "1  store#6       Orlando    73.798287\n",
       "2  store#4  Jacksonville    84.552802\n",
       "3  store#5         Tampa    86.756136\n",
       "4  store#1   Tallahassee   154.167562\n",
       "5  store#7       Hialeah   256.349820\n",
       "6  store#3         Miami   263.966405"
      ]
     },
     "execution_count": 27,
     "metadata": {},
     "output_type": "execute_result"
    }
   ],
   "source": [
    "import numpy as np \n",
    "import pandas as pd \n",
    "\n",
    "def haversin(data):\n",
    "    \n",
    "    \"\"\"\n",
    "    This function reads in user latitude and logitude to simulate logging customer\n",
    "    call locations. The user's long and lat are then converted to radians along \n",
    "    with other pre-defined longs and lats imported from a text file and save to a \n",
    "    pandas dataframe. The function then computes the distance from the caller to \n",
    "    the the stores in the dataframe using the haversine formula. The distances are\n",
    "    then sorted in ascending order and printed out to provide the customer with \n",
    "    a list of closest stores, and how many miles to the store. \n",
    "    \"\"\"\n",
    "    \n",
    "    #Read in user long and lat \n",
    "    #must transform string values to float \n",
    "    lon1 = float(input(\"Enter longitude: \"))\n",
    "    lat1 = float(input(\"Enter latitude: \"))\n",
    "    \n",
    "    #Radius of earth from the equator in miles (found on google)\n",
    "    R = 3963.0\n",
    "    \n",
    "    #assign user lat and lon and datatable lat and long to variables\n",
    "    #I use the in-built function map to assign the numpy function np.radians to the degree\n",
    "    #lats and long to transform degree into radians \n",
    "    lat1, lon1, lat2, lon2 = map(np.radians, [lat1, lon1, data.latitude, data.longitude])\n",
    "    \n",
    "    #calculate the distance between the lats and longs\n",
    "    lon_dist = lon2 - lon1\n",
    "    lat_dist = lat2 - lat1\n",
    "    \n",
    "    #apply haversine formula \n",
    "    #np cos and sin provide for faster calculations \n",
    "    c = 2 * R * np.arcsin(np.sqrt((np.sin(lat_dist)/2)**2 + np.cos(lat1) * np.cos(lat2) * np.sin((lon_dist)/2)**2 ))\n",
    "    \n",
    "    #prompt user for the info provided \n",
    "    print(\"\\nBelow are the closest stores from your location in ascending order\")\n",
    "    #apply selection sort\n",
    "    sorted_result, indx = selectionSort(c)\n",
    "    return c.tolist(), indx\n",
    "\n",
    "   \n",
    "#import data table \n",
    "#use pandas to assign columns using strings \n",
    "data = pd.read_table('stores_location.dat', delim_whitespace=True, names = ('store', 'city', 'latitude', 'N', 'longitude','W'))\n",
    "\n",
    "#call function \n",
    "sorted_dist , indx = haversin(data)\n",
    "\n",
    "#Sort the cities and stores based on the index from selectionSort(c)\n",
    "sorted_cities = [data['city'][indx[i]] for i in range(len(data))]\n",
    "sorted_stores = [data['store'][indx[i]] for i in range(len(data))]\n",
    "\n",
    "#create a tuple to package store num, city, and dist together\n",
    "test = list(zip(sorted_stores, sorted_cities, sort_dist))\n",
    "\n",
    "#Create output dataframe\n",
    "final_sort = pd.DataFrame(test, columns=['Store','City','Distance(m)'])\n",
    "final_sort"
   ]
  }
 ],
 "metadata": {
  "kernelspec": {
   "display_name": "Python 3",
   "language": "python",
   "name": "python3"
  },
  "language_info": {
   "codemirror_mode": {
    "name": "ipython",
    "version": 3
   },
   "file_extension": ".py",
   "mimetype": "text/x-python",
   "name": "python",
   "nbconvert_exporter": "python",
   "pygments_lexer": "ipython3",
   "version": "3.7.0"
  }
 },
 "nbformat": 4,
 "nbformat_minor": 2
}
