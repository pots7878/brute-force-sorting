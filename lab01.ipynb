{
 "cells": [
  {
   "cell_type": "markdown",
   "metadata": {},
   "source": [
    "# Lab 01: Algorithm Design and Analysis\n",
    "ISC 4221<br>\n",
    "Due September 11th, 2019<br>\n",
    "Connor Poetzinger<br> "
   ]
  },
  {
   "cell_type": "markdown",
   "metadata": {},
   "source": [
    "## Introduction"
   ]
  },
  {
   "cell_type": "markdown",
   "metadata": {},
   "source": [
    "This lab introduces brute force algorithms. I implement two sorting algorithms, selection sort and bubble sort, to sort a real one-dimensional array in ascending order. I then apply the selection sorting algorithm to a problem to determine the closest store location from a hypothetical caller's latitude and longitude location. The stores distance are calculated via the Haversine formula and the resulting  list of stores are then sorted in ascending order in relation to the hypothetical caller's location."
   ]
  },
  {
   "cell_type": "markdown",
   "metadata": {},
   "source": [
    "## 1. Selection Sort"
   ]
  },
  {
   "cell_type": "markdown",
   "metadata": {},
   "source": [
    "Implementation of Selection Sort algorithm. This algorithm takes in an array of *n* real numbers to be sorted and outputs the the sorted array in ascending order as well as its positional index vector. The algorithm divides the input list into two parts: the sublist of items already sorted, which is  built up from left to right at the front of the list, and the sublist of items remaining to be sorted that occupy the rest of the list. The algorithm proceeds by finding the smallest element in the unsorted sublist, swapping it with the leftmost unsorted element, and moving the sublist boundaries one element to the right."
   ]
  },
  {
   "cell_type": "code",
   "execution_count": 1,
   "metadata": {},
   "outputs": [],
   "source": [
    "#Import modules \n",
    "import numpy as np\n",
    "\"\"\"\n",
    "Input: Numpy array of random real numbers from 0 to 100\n",
    "Output: Sorted array and index vector\n",
    "\n",
    "Goal: Take current element and swap it with the smallest element on its right \n",
    "\"\"\"\n",
    "\n",
    "def selectionSort(A):\n",
    "    #use numpy argsort to return indicies that would sort the array \n",
    "    indx = np.argsort(A)\n",
    "    #Traverse through numpy array \n",
    "    for i in range(len(A)):\n",
    "        #initial minimum location \n",
    "        min_loc = i\n",
    "        #find location of smallest element on right \n",
    "        for j in range(i + 1, len(A)):\n",
    "            #Check if number to the right is smaller then minimum location\n",
    "            if A[j] < A[min_loc]:\n",
    "                min_loc = j\n",
    "        #Within the first for loop swap the minimum location with first element \n",
    "        A[min_loc], A[i] = A[i], A[min_loc]\n",
    "    \n",
    "    return A, indx"
   ]
  },
  {
   "cell_type": "code",
   "execution_count": 2,
   "metadata": {},
   "outputs": [
    {
     "name": "stdout",
     "output_type": "stream",
     "text": [
      "Unsorted list or random floats from 0-100\n",
      "\n",
      " [25.5705635  29.61476005 71.25443006 38.50929697 48.26338717 48.70949188\n",
      " 14.11598    40.344723   42.75226396 11.27112706  7.09450366 41.92594918\n",
      "  2.64547895 10.03447079 58.37075325 51.92852297 81.8315278  92.31324535\n",
      " 47.28626847 33.47672793 66.42680499 84.36309028  9.73697984 44.45745318\n",
      " 12.4434115 ]\n"
     ]
    }
   ],
   "source": [
    "A = np.random.rand(25) * 100\n",
    "print(\"Unsorted list or random floats from 0-100\\n\\n\", A)"
   ]
  },
  {
   "cell_type": "code",
   "execution_count": 3,
   "metadata": {},
   "outputs": [
    {
     "name": "stdout",
     "output_type": "stream",
     "text": [
      "Sorted list of random floats from 0-100 and its position indicies\n",
      "\n",
      " [ 2.64547895  7.09450366  9.73697984 10.03447079 11.27112706 12.4434115\n",
      " 14.11598    25.5705635  29.61476005 33.47672793 38.50929697 40.344723\n",
      " 41.92594918 42.75226396 44.45745318 47.28626847 48.26338717 48.70949188\n",
      " 51.92852297 58.37075325 66.42680499 71.25443006 81.8315278  84.36309028\n",
      " 92.31324535] \n",
      "\n",
      " [12 10 22 13  9 24  6  0  1 19  3  7 11  8 23 18  4  5 15 14 20  2 16 21\n",
      " 17]\n"
     ]
    }
   ],
   "source": [
    "B, indxd = selectionSort(A)\n",
    "print(\"Sorted list of random floats from 0-100 and its position indicies\\n\\n\", \n",
    "      B, \"\\n\\n\", indxd)"
   ]
  },
  {
   "cell_type": "markdown",
   "metadata": {},
   "source": [
    "Selection sort is noted for its simplicity, it has O(n<sup>2</sup>) time complexity."
   ]
  },
  {
   "cell_type": "markdown",
   "metadata": {},
   "source": [
    "## 2. Bubble Sort"
   ]
  },
  {
   "cell_type": "markdown",
   "metadata": {},
   "source": [
    "Implementation of Bubble Sort algorithm. This algorithm takes in an array of *n* real numbers to be sorted and outputs the the sorted array in ascending order as well as its positional index vector. The algorithm proceeds by repeatedly stepping through the list, compares adjacent elements and swaps them if they are in the wrong order. The sweep through the list is repeated until the list is sorted. "
   ]
  },
  {
   "cell_type": "code",
   "execution_count": 4,
   "metadata": {},
   "outputs": [],
   "source": [
    "#Import modules \n",
    "import numpy as np\n",
    "\"\"\"\n",
    "Input: Numpy array of random real numbers from 0 to 100\n",
    "Output: Sorted array and index vector\n",
    "\n",
    "Goal: Move left to right, compare consedcutive elements and switch them if \n",
    "they are out of order. Continue until no swaps are made through an entire\n",
    "sweep.\n",
    "\"\"\"\n",
    "\n",
    "def bubbleSort(A):\n",
    "    #use numpy argsort to return indicies that would sort the array \n",
    "    indx = np.argsort(A)\n",
    "    #Traverse the numpy array\n",
    "    for i in range(len(A)):\n",
    "        #At each sweep compare the current j with the next value \n",
    "        #Use length minus 1 since we are comparing the current value \n",
    "        #with the next \n",
    "        for j in range((len(A) - 1) - i):\n",
    "            #Swap positions if element found is greater than the next \n",
    "            #element. Largest nums bubble to the back \n",
    "            if A[j] > A[j + 1]:\n",
    "                #Current element moves to the back \n",
    "                A[j], A[j + 1] = A[j + 1], A[j]\n",
    "    \n",
    "    return A, indx"
   ]
  },
  {
   "cell_type": "code",
   "execution_count": 5,
   "metadata": {},
   "outputs": [
    {
     "name": "stdout",
     "output_type": "stream",
     "text": [
      "Unsorted list or random floats from 0-100\n",
      "\n",
      " [57.79055381 29.95135812 78.36623584 86.99413724 20.26771766  1.99168654\n",
      " 29.26345628 55.9913703  43.18890447 59.70770645 56.53449315 98.69204143\n",
      " 73.94815849  7.15049827  6.67047563 68.33793187 44.93947052 19.65633667\n",
      " 21.11072958 99.34583355 66.39684811 46.69686283 11.57702066 59.32459052\n",
      " 53.42382891]\n"
     ]
    }
   ],
   "source": [
    "A = np.random.rand(25) * 100\n",
    "print(\"Unsorted list or random floats from 0-100\\n\\n\", A)"
   ]
  },
  {
   "cell_type": "code",
   "execution_count": 6,
   "metadata": {},
   "outputs": [
    {
     "name": "stdout",
     "output_type": "stream",
     "text": [
      "Sorted list of random floats from 0-100 and its position indicies\n",
      "\n",
      " [ 1.99168654  6.67047563  7.15049827 11.57702066 19.65633667 20.26771766\n",
      " 21.11072958 29.26345628 29.95135812 43.18890447 44.93947052 46.69686283\n",
      " 53.42382891 55.9913703  56.53449315 57.79055381 59.32459052 59.70770645\n",
      " 66.39684811 68.33793187 73.94815849 78.36623584 86.99413724 98.69204143\n",
      " 99.34583355] \n",
      "\n",
      " [ 5 14 13 22 17  4 18  6  1  8 16 21 24  7 10  0 23  9 20 15 12  2  3 11\n",
      " 19]\n"
     ]
    }
   ],
   "source": [
    "B, indxd = bubbleSort(A)\n",
    "print(\"Sorted list of random floats from 0-100 and its position indicies\\n\\n\",\n",
    "      B, \"\\n\\n\", indxd)"
   ]
  },
  {
   "cell_type": "markdown",
   "metadata": {},
   "source": [
    "Bubble sort is noted for its simplicity however, this algorithm is noticeably slower than selection sort. Bubble sort has a complexity of O(n<sup>2</sup>) which is the same as selection sort, but since bubble sort takes multiple sweeps of the list to sort the array, it is considered inferior to selection sort."
   ]
  },
  {
   "cell_type": "markdown",
   "metadata": {},
   "source": [
    "## 3. A Basic Application of Sorting"
   ]
  },
  {
   "cell_type": "markdown",
   "metadata": {},
   "source": [
    "Using the Haversine algorithm, find the distance between the store distance and the user inputed longitude and latitude. The example latitude and longitude I use is 82 W 29 N, approximately near Ocala, Florida."
   ]
  },
  {
   "cell_type": "code",
   "execution_count": 7,
   "metadata": {},
   "outputs": [],
   "source": [
    "import numpy as np \n",
    "import pandas as pd \n",
    "\n",
    "def haversin(data):\n",
    "    \n",
    "    \"\"\"\n",
    "    This function reads in user latitude and logitude to simulate logging customer\n",
    "    call locations. The user's long and lat are then converted to radians along \n",
    "    with other pre-defined longs and lats imported from a text file and save to a \n",
    "    pandas dataframe. The function then computes the distance from the caller to \n",
    "    the the stores in the dataframe using the haversine formula. The distances are\n",
    "    then sorted in ascending order and printed out to provide the customer with \n",
    "    a list of closest stores, and how many miles to the store. \n",
    "    \"\"\"\n",
    "    \n",
    "    #Read in user long and lat \n",
    "    #must transform string values to float \n",
    "    lon1 = float(input(\"Enter longitude: \"))\n",
    "    lat1 = float(input(\"Enter latitude: \"))\n",
    "    \n",
    "    #Radius of earth from the equator in miles (found on google)\n",
    "    R = 3963.0\n",
    "    \n",
    "    #assign user lat and lon and datatable lat and long to variables\n",
    "    #I use the in-built function map to assign the numpy function \n",
    "    #np.radians to the degree\n",
    "    #lats and long to transform degree into radians \n",
    "    lat1, lon1, lat2, lon2 = map(np.radians, \n",
    "                                 [lat1, lon1, data.latitude, data.longitude])\n",
    "    \n",
    "    #calculate the distance between the lats and longs\n",
    "    lon_dist = lon2 - lon1\n",
    "    lat_dist = lat2 - lat1\n",
    "    \n",
    "    #apply haversine formula \n",
    "    #np cos and sin provide for faster calculations \n",
    "    c = 2 * R * np.arcsin(np.sqrt((np.sin(lat_dist)/2)**2 + \n",
    "                                  np.cos(lat1) * np.cos(lat2) * \n",
    "                                  np.sin((lon_dist)/2)**2 ))\n",
    "    \n",
    "    #prompt user for the info provided \n",
    "    print(\"\\nBelow are the closest stores from your location in ascending order\\n\")\n",
    "    \n",
    "    #apply selection sort\n",
    "    sorted_result, indx = selectionSort(c)\n",
    "    \n",
    "    return sorted_result, indx"
   ]
  },
  {
   "cell_type": "code",
   "execution_count": 8,
   "metadata": {},
   "outputs": [
    {
     "name": "stdout",
     "output_type": "stream",
     "text": [
      "Enter longitude: 82\n",
      "Enter latitude: 29\n",
      "\n",
      "Below are the closest stores from your location in ascending order\n",
      "\n",
      "   Store          City  Distance(m)\n",
      " store#2   Gainesville    49.170962\n",
      " store#6       Orlando    58.666064\n",
      " store#5         Tampa    77.023368\n",
      " store#4  Jacksonville    94.676263\n",
      " store#1   Tallahassee   168.646953\n",
      " store#7       Hialeah   241.000734\n",
      " store#3         Miami   248.602665\n"
     ]
    }
   ],
   "source": [
    "#import data table \n",
    "#use pandas to assign columns using strings \n",
    "data = pd.read_table('stores_location.dat', delim_whitespace=True, \n",
    "                     names = ('store', 'city', 'latitude', 'N', 'longitude','W'))\n",
    "\n",
    "#call function \n",
    "sorted_dist , indx = haversin(data)\n",
    "\n",
    "#Sort the cities and stores based on the index from selectionSort(c)\n",
    "sorted_cities = [data['city'][indx[i]] for i in range(len(data))]\n",
    "sorted_stores = [data['store'][indx[i]] for i in range(len(data))]\n",
    "\n",
    "#create a tuple to package store num, city, and dist together\n",
    "sorted_zip = list(zip(sorted_stores, sorted_cities, sorted_dist))\n",
    "\n",
    "#Create output dataframe\n",
    "final_sort = pd.DataFrame(sorted_zip, columns=['Store','City','Distance(m)'])\n",
    "print(final_sort.to_string(index=False))"
   ]
  }
 ],
 "metadata": {
  "kernelspec": {
   "display_name": "Python 3",
   "language": "python",
   "name": "python3"
  },
  "language_info": {
   "codemirror_mode": {
    "name": "ipython",
    "version": 3
   },
   "file_extension": ".py",
   "mimetype": "text/x-python",
   "name": "python",
   "nbconvert_exporter": "python",
   "pygments_lexer": "ipython3",
   "version": "3.7.0"
  }
 },
 "nbformat": 4,
 "nbformat_minor": 2
}
